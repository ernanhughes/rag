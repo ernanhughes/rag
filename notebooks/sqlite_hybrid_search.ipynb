{
  "cells": [
    {
      "cell_type": "markdown",
      "metadata": {
        "colab_type": "text",
        "id": "view-in-github"
      },
      "source": [
        "<a href=\"https://colab.research.google.com/github/ernanhughes/rag/blob/main/sqlite_hybrid_search.ipynb\" target=\"_parent\"><img src=\"https://colab.research.google.com/assets/colab-badge.svg\" alt=\"Open In Colab\"/></a>"
      ]
    },
    {
      "cell_type": "code",
      "execution_count": 228,
      "id": "555d7d57-91de-45f5-aac4-db021e7c23ea",
      "metadata": {
        "id": "555d7d57-91de-45f5-aac4-db021e7c23ea"
      },
      "outputs": [],
      "source": [
        "# Example of performing Hybrid search using sqlite-vec and FTS"
      ]
    },
    {
      "cell_type": "code",
      "execution_count": 229,
      "id": "5c1a669a-c807-41fa-96d3-67f2e53bbc8c",
      "metadata": {
        "id": "5c1a669a-c807-41fa-96d3-67f2e53bbc8c"
      },
      "outputs": [],
      "source": [
        "import sqlite3\n",
        "import sqlite_vec\n",
        "import json\n",
        "import numpy as np\n",
        "import ollama\n"
      ]
    },
    {
      "cell_type": "code",
      "execution_count": 230,
      "id": "aa9b0d4c-5517-46ff-a745-9aa1726ccf51",
      "metadata": {
        "id": "aa9b0d4c-5517-46ff-a745-9aa1726ccf51"
      },
      "outputs": [],
      "source": [
        "# Function to serialize float32 list to binary format compatible with sqlite-vec\n",
        "def serialize_f32(vec):\n",
        "    return np.array(vec, dtype=np.float32).tobytes()\n",
        "\n",
        "def reciprocal_rank_fusion(fts_results, vec_results, k=60):\n",
        "    rank_dict = {}\n",
        "\n",
        "    # Process FTS results\n",
        "    for rank, (id,) in enumerate(fts_results):\n",
        "        if id not in rank_dict:\n",
        "            rank_dict[id] = 0\n",
        "        rank_dict[id] += 1 / (k + rank + 1)\n",
        "\n",
        "    # Process vector results\n",
        "    for rank, (rowid, distance) in enumerate(vec_results):\n",
        "        if rowid not in rank_dict:\n",
        "            rank_dict[rowid] = 0\n",
        "        rank_dict[rowid] += 1 / (k + rank + 1)\n",
        "\n",
        "    # Sort by RRF score\n",
        "    sorted_results = sorted(rank_dict.items(), key=lambda x: x[1], reverse=True)\n",
        "    return sorted_results\n",
        "\n",
        "def or_words(input_string):\n",
        "    # Split the input string into words\n",
        "    words = input_string.split()\n",
        "\n",
        "    # Join the words with ' OR ' in between\n",
        "    result = ' OR '.join(words)\n",
        "\n",
        "    return result\n",
        "\n",
        "def lookup_row(id):\n",
        "    row_lookup = cur.execute('''\n",
        "    SELECT content FROM mango_lookup WHERE id = ?\n",
        "    ''', (id,)).fetchall()\n",
        "    content = ''\n",
        "    for row in row_lookup:\n",
        "        content= row[0]\n",
        "        break\n",
        "    return content\n"
      ]
    },
    {
      "cell_type": "code",
      "execution_count": 231,
      "id": "ba5e0227",
      "metadata": {},
      "outputs": [],
      "source": [
        "import requests\n",
        "OLLAMA_BASE_URL=\"http://127.0.0.1:11434\"\n",
        "\n",
        "def generate_embeddings(text, model_name: str = \"nomic-embed-text\"):\n",
        "    \"\"\"Generate embeddings for the given text using the specified model.\"\"\"\n",
        "    try:\n",
        "        # Send a POST request to generate embeddings\n",
        "        url = f\"{OLLAMA_BASE_URL}/api/embeddings\"\n",
        "        data = {\n",
        "            \"prompt\": text,\n",
        "            \"model\": model_name\n",
        "        }\n",
        "        response = requests.post(url, json=data)\n",
        "        \n",
        "        # Check if the request was successful\n",
        "        if response.status_code == 200:\n",
        "            return response.json().get(\"embedding\", [])\n",
        "        else:\n",
        "            print(f\"Failed to generate embeddings. Status code: {response.status_code}\")\n",
        "            print(\"Response:\", response.text)\n",
        "            return None\n",
        "    \n",
        "    except requests.ConnectionError:\n",
        "        print(\"Failed to connect to the Ollama server. Make sure it is running locally and the URL is correct.\")\n",
        "        return None\n",
        "    except json.JSONDecodeError:\n",
        "        print(\"Failed to parse JSON response from Ollama server.\")\n",
        "        return None\n",
        "    except Exception as e:\n",
        "        print(f\"An error occurred: {e}\")\n",
        "        return None\n",
        "    \n",
        "# Example usage\n",
        "# text = \"Hello, world!\"\n",
        "# model_name = \"nomic-embed-text\"\n",
        "# res = generate_embeddings(text, model_name)\n"
      ]
    },
    {
      "cell_type": "code",
      "execution_count": 232,
      "id": "2f5d60e3-f030-4403-a2e1-9727919753c6",
      "metadata": {
        "id": "2f5d60e3-f030-4403-a2e1-9727919753c6",
        "outputId": "57e2834e-33ce-4e6f-ef67-00b1063eacc4"
      },
      "outputs": [
        {
          "name": "stdout",
          "output_type": "stream",
          "text": [
            "sqlite_version=3.45.3, vec_version=v0.1.3\n"
          ]
        }
      ],
      "source": [
        "# Create an in memory sqlite db\n",
        "db = sqlite3.connect(\":memory:\")\n",
        "db.enable_load_extension(True)\n",
        "sqlite_vec.load(db)\n",
        "db.enable_load_extension(False)\n",
        "\n",
        "sqlite_version, vec_version = db.execute(\n",
        "    \"select sqlite_version(), vec_version()\"\n",
        ").fetchone()\n",
        "print(f\"sqlite_version={sqlite_version}, vec_version={vec_version}\")\n"
      ]
    },
    {
      "cell_type": "code",
      "execution_count": 233,
      "id": "85c86294-6699-4de7-b1b2-5d3ff9473a3f",
      "metadata": {
        "id": "85c86294-6699-4de7-b1b2-5d3ff9473a3f",
        "outputId": "1d87c7c3-31c2-4002-da0b-ef80b048d096"
      },
      "outputs": [
        {
          "name": "stdout",
          "output_type": "stream",
          "text": [
            "Dims in Vector Embeddings: 768\n"
          ]
        }
      ],
      "source": [
        "data = generate_embeddings('The quick brown fox')\n",
        "dims = len(data)\n",
        "print ('Dims in Vector Embeddings:', dims)"
      ]
    },
    {
      "cell_type": "code",
      "execution_count": 234,
      "id": "c6ddf350-058d-4317-bbc8-b99845ebaf4a",
      "metadata": {
        "id": "c6ddf350-058d-4317-bbc8-b99845ebaf4a",
        "outputId": "5200af7c-4f4b-4a05-9c60-224296c574c9"
      },
      "outputs": [
        {
          "data": {
            "text/plain": [
              "<sqlite3.Cursor at 0x22b47ec1140>"
            ]
          },
          "execution_count": 234,
          "metadata": {},
          "output_type": "execute_result"
        }
      ],
      "source": [
        "cur = db.cursor()\n",
        "cur.execute('CREATE VIRTUAL TABLE mango_fts USING fts5(id UNINDEXED, content, tokenize=\"porter unicode61\");')\n",
        "\n",
        "# sqlite-vec always adds an ID field\n",
        "cur.execute('''CREATE VIRTUAL TABLE mango_vec USING vec0(embedding float[''' + str(dims) + '])''')\n",
        "\n",
        "# Create a content lookup table with an index on the ID\n",
        "cur.execute('CREATE TABLE mango_lookup (id INTEGER PRIMARY KEY AUTOINCREMENT, content TEXT);')"
      ]
    },
    {
      "cell_type": "code",
      "execution_count": 235,
      "id": "7b7e4eca-43c8-43c0-a3d3-952f2305ad46",
      "metadata": {
        "id": "7b7e4eca-43c8-43c0-a3d3-952f2305ad46"
      },
      "outputs": [],
      "source": [
        "# Insert some sample data into mango_fts\n",
        "fts_data = [\n",
        "    (1, 'The quick brown fox jumps over the lazy dog.'),\n",
        "    (2, 'Artificial intelligence is transforming the world.'),\n",
        "    (3, 'Climate change is a pressing global issue.'),\n",
        "    (4, 'The stock market fluctuates based on various factors.'),\n",
        "    (5, 'Remote work has become more prevalent during the pandemic.'),\n",
        "    (6, 'Electric vehicles are becoming more popular.'),\n",
        "    (7, 'Quantum computing has the potential to revolutionize technology.'),\n",
        "    (8, 'Healthcare innovation is critical for societal well-being.'),\n",
        "    (9, 'Space exploration expands our understanding of the universe.'),\n",
        "    (10, 'Cybersecurity threats are evolving and becoming more sophisticated.')\n",
        "]\n",
        "\n",
        "cur.executemany('''\n",
        "INSERT INTO mango_fts (id, content) VALUES (?, ?)\n",
        "''', fts_data);\n",
        "\n",
        "\n",
        "cur.executemany('''\n",
        "  INSERT INTO mango_lookup (id, content) VALUES (?, ?)\n",
        "''', fts_data)\n",
        "\n",
        "\n",
        "# Generate embeddings for the content and insert into mango_vec\n",
        "for row in fts_data:\n",
        "    id, content = row\n",
        "    embedding = generate_embeddings(content)\n",
        "    cur.execute('''\n",
        "    INSERT INTO mango_vec (rowid, embedding) VALUES (?, ?)\n",
        "    ''', (id, serialize_f32(list(embedding))))\n",
        "\n",
        "\n",
        "# Commit changes\n",
        "db.commit()"
      ]
    },
    {
      "cell_type": "code",
      "execution_count": 236,
      "id": "5bb41f57",
      "metadata": {},
      "outputs": [],
      "source": [
        "def search(fts_search_query: str = \"Electric\", top_k: int = 2):\n",
        "    fts_results = cur.execute('''\n",
        "    SELECT id FROM mango_fts WHERE mango_fts MATCH ? ORDER BY rank limit 5\n",
        "    ''', (or_words(fts_search_query),)).fetchall()\n",
        "\n",
        "    # Vector search query\n",
        "    query_embedding = generate_embeddings(fts_search_query)\n",
        "    vec_results = cur.execute('''\n",
        "    SELECT rowid, distance FROM mango_vec WHERE embedding MATCH ? and K = ?\n",
        "    ORDER BY distance\n",
        "    ''', [serialize_f32(list(query_embedding)), top_k]).fetchall()\n",
        "\n",
        "    # Combine results using RRF\n",
        "    combined_results = reciprocal_rank_fusion(fts_results, vec_results)\n",
        "\n",
        "    # Print combined results\n",
        "    for id, score in combined_results:\n",
        "        print(f'ID: {id}, Content: {lookup_row(id)}, RRF Score: {score}')    \n"
      ]
    },
    {
      "cell_type": "code",
      "execution_count": 237,
      "id": "7ed8a288-9e8f-4524-808c-f94d6aaa807d",
      "metadata": {
        "id": "7ed8a288-9e8f-4524-808c-f94d6aaa807d",
        "outputId": "3e11e4f1-8563-44c7-893c-118c4ce82c73"
      },
      "outputs": [
        {
          "name": "stdout",
          "output_type": "stream",
          "text": [
            "---- technology ----\n",
            "ID: 7, Content: Quantum computing has the potential to revolutionize technology., RRF Score: 0.03278688524590164\n",
            "ID: 2, Content: Artificial intelligence is transforming the world., RRF Score: 0.016129032258064516\n",
            "---- Electric ----\n",
            "ID: 6, Content: Electric vehicles are becoming more popular., RRF Score: 0.03278688524590164\n",
            "ID: 7, Content: Quantum computing has the potential to revolutionize technology., RRF Score: 0.016129032258064516\n",
            "---- Medical ----\n",
            "ID: 8, Content: Healthcare innovation is critical for societal well-being., RRF Score: 0.01639344262295082\n",
            "ID: 5, Content: Remote work has become more prevalent during the pandemic., RRF Score: 0.016129032258064516\n"
          ]
        }
      ],
      "source": [
        "print(\"---- technology ----\")\n",
        "search(\"technology\")\n",
        "print(\"---- Electric ----\")\n",
        "search(\"Electric\")  \n",
        "print(\"---- Medical ----\")\n",
        "search(\"medical\")\n"
      ]
    },
    {
      "cell_type": "code",
      "execution_count": 238,
      "id": "3dd42c82-d7ab-4a60-a1dc-1deae4d3f815",
      "metadata": {
        "id": "3dd42c82-d7ab-4a60-a1dc-1deae4d3f815"
      },
      "outputs": [],
      "source": [
        "# Close the connection\n",
        "db.close()\n"
      ]
    }
  ],
  "metadata": {
    "colab": {
      "include_colab_link": true,
      "provenance": []
    },
    "kernelspec": {
      "display_name": "Python 3 (ipykernel)",
      "language": "python",
      "name": "python3"
    },
    "language_info": {
      "codemirror_mode": {
        "name": "ipython",
        "version": 3
      },
      "file_extension": ".py",
      "mimetype": "text/x-python",
      "name": "python",
      "nbconvert_exporter": "python",
      "pygments_lexer": "ipython3",
      "version": "3.11.9"
    }
  },
  "nbformat": 4,
  "nbformat_minor": 5
}
